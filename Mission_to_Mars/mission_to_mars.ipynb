{
 "cells": [
  {
   "cell_type": "code",
   "execution_count": null,
   "metadata": {},
   "outputs": [],
   "source": [
    "# Insert dependencies\n",
    "import requests\n",
    "from bs4 import BeautifulSoup as bs\n",
    "from splinter import Browser\n",
    "import pandas as pd\n",
    "import time\n",
    "\n",
    "# Establishing final dictionary for scraping data to be appended to and ultimately added to MongoDB\n",
    "final_dict = {}"
   ]
  },
  {
   "cell_type": "code",
   "execution_count": null,
   "metadata": {},
   "outputs": [],
   "source": [
    "# Creating path to NASA's Mars Exploration Program url\n",
    "url = \"https://mars.nasa.gov/news/?page=0&per_page=40&order=publish_date+desc%2Ccreated_at+desc&search=&category=19%2C165%2C184%2C204&blank_scope=Latest\"\n",
    "response = requests.get(url)\n",
    "html = response.text"
   ]
  },
  {
   "cell_type": "code",
   "execution_count": null,
   "metadata": {},
   "outputs": [],
   "source": [
    "# Creating a Beautiful Soup object for Latest News\n",
    "soup = bs(html, 'html.parser')"
   ]
  },
  {
   "cell_type": "code",
   "execution_count": null,
   "metadata": {},
   "outputs": [],
   "source": [
    "# Pulling the first instance of 'div', class_='content_title' to pull the latest news story\n",
    "# from 'https://mars.nasa.gov/news/?page=0&per_page=40&order=publish_date+desc%2Ccreated_at+desc&search=&category=19%2C165%2C184%2C204&blank_scope=Latest'\n",
    "\n",
    "# Pulling the headline from latest news story\n",
    "news_title = soup.find('div',class_='content_title').text.strip()\n",
    "\n",
    "# Pulling the teaser paragraph for the latest news story\n",
    "news_p = soup.find('div', class_='rollover_description_inner').text.strip()\n",
    "news_p\n",
    "\n",
    "# Putting latest article information into dictionary\n",
    "latest_dict = {\n",
    "    'headline':news_title,\n",
    "    'article':news_p\n",
    "}\n",
    "\n",
    "# Appending dictionary to final_dict\n",
    "final_dict.update(latest_dict)"
   ]
  },
  {
   "cell_type": "code",
   "execution_count": null,
   "metadata": {},
   "outputs": [],
   "source": [
    "# Setting executable path for chromedriver & opening browser window\n",
    "executable_path = {'executable_path': 'Resources/chromedriver/chromedriver.exe'}\n",
    "browser = Browser(\"chrome\", **executable_path, headless=False)\n",
    "\n",
    "# Pointing Splinter to url\n",
    "splinter_url = \"https://www.jpl.nasa.gov/spaceimages/?search=&category=Mars#submit\"\n",
    "browser.visit(splinter_url)\n",
    "browser.click_link_by_partial_text('FULL IMAGE')"
   ]
  },
  {
   "cell_type": "code",
   "execution_count": null,
   "metadata": {},
   "outputs": [],
   "source": [
    "# Using current, clicked in Splinter url to grab url for featured image, storing in 'featured_image_url'\n",
    "time.sleep(1)\n",
    "image_html = browser.html\n",
    "soup = bs(image_html,'html.parser')\n",
    "featured_image_url = 'https://www.jpl.nasa.gov/' + soup.find('img', class_='fancybox-image')['src']\n",
    "\n",
    "# Putting latest image url into dictionary\n",
    "image_dict = {\n",
    "    'featured_image':featured_image_url\n",
    "}\n",
    "\n",
    "# Appending dictionary to final_dict\n",
    "final_dict.update(image_dict)"
   ]
  },
  {
   "cell_type": "code",
   "execution_count": null,
   "metadata": {},
   "outputs": [],
   "source": [
    "# Using Pandas to pull facts table from Mars facts url\n",
    "tables_url = 'https://space-facts.com/mars/'\n",
    "tables = pd.read_html(tables_url)\n",
    "tables_df = tables[0]\n",
    "tables_df.columns = ['Description','Mars']\n",
    "tables_df.set_index('Description', inplace=True)\n",
    "\n",
    "# Pandas converts table to HTML format for use in flask app\n",
    "facts_html_table = tables_df.to_html()\n",
    "\n",
    "# Putting facts table into dictionary\n",
    "facts_dict = {\n",
    "    'facts':facts_html_table\n",
    "}\n",
    "\n",
    "# Appending dictionary to final_dict\n",
    "final_dict.update(facts_dict)"
   ]
  },
  {
   "cell_type": "code",
   "execution_count": null,
   "metadata": {},
   "outputs": [],
   "source": [
    "# Navigated to the url 'https://astrogeology.usgs.gov/search/results?q=hemisphere+enhanced&k1=target&v1=Mars'\n",
    "# To obtain the image urls and titles of Mars hemisphere images\n",
    "hemisphere_image_urls = [\n",
    "    {'title':'Valles Marineris Hemisphere','img_url':'https://astrogeology.usgs.gov/cache/images/555e6403a6ddd7ba16ddb0e471cadcf7_syrtis_major_enhanced.tif_full.jpg'},\n",
    "    {'title':'Cerberus Hemisphere','img_url':'https://astrogeology.usgs.gov/cache/images/f5e372a36edfa389625da6d0cc25d905_cerberus_enhanced.tif_full.jpg'},\n",
    "    {'title':'Schiaparelli Hemisphere','img_url':'https://astrogeology.usgs.gov/cache/images/3778f7b43bbbc89d6e3cfabb3613ba93_schiaparelli_enhanced.tif_full.jpg'},\n",
    "    {'title':'Syrtis Major Hemisphere','img_url':'https://astrogeology.usgs.gov/cache/images/555e6403a6ddd7ba16ddb0e471cadcf7_syrtis_major_enhanced.tif_full.jpg'},\n",
    "]\n",
    "\n",
    "# Putting Mars hemisphere image urls into dictionary\n",
    "hemispheres_dict = {\n",
    "    'hemispheres':hemisphere_image_urls\n",
    "}\n",
    "\n",
    "# Appending dictionary to final_dict\n",
    "final_dict.update(hemispheres_dict)"
   ]
  }
 ],
 "metadata": {
  "kernelspec": {
   "display_name": "Python 3",
   "language": "python",
   "name": "python3"
  },
  "language_info": {
   "codemirror_mode": {
    "name": "ipython",
    "version": 3
   },
   "file_extension": ".py",
   "mimetype": "text/x-python",
   "name": "python",
   "nbconvert_exporter": "python",
   "pygments_lexer": "ipython3",
   "version": "3.7.6"
  }
 },
 "nbformat": 4,
 "nbformat_minor": 4
}
