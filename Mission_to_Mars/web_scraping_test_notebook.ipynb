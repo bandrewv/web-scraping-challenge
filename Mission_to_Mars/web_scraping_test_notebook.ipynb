{
 "cells": [
  {
   "cell_type": "code",
   "execution_count": 16,
   "metadata": {},
   "outputs": [],
   "source": [
    "# Insert dependencies\n",
    "import os\n",
    "import requests\n",
    "from bs4 import BeautifulSoup as bs"
   ]
  },
  {
   "cell_type": "code",
   "execution_count": 2,
   "metadata": {},
   "outputs": [],
   "source": [
    "# Create an HTML string (<class activity practice>)\n",
    "html_string = \"\"\"\n",
    "<html>\n",
    "<head>\n",
    "<title>\n",
    "A Simple HTML Document\n",
    "</title>\n",
    "</head>\n",
    "<body>\n",
    "<p>This is a very simple HTML document</p>\n",
    "<p>It only has two paragraphs</p>\n",
    "</html>\n",
    "\"\"\""
   ]
  },
  {
   "cell_type": "code",
   "execution_count": 3,
   "metadata": {},
   "outputs": [
    {
     "data": {
      "text/plain": [
       "bs4.BeautifulSoup"
      ]
     },
     "execution_count": 3,
     "metadata": {},
     "output_type": "execute_result"
    }
   ],
   "source": [
    "# Create a Beautiful Soup object\n",
    "soup = bs(html_string, 'html.parser')\n",
    "type(soup)\n",
    "\n",
    "# if output = \"bs4.BeautifulSoup\" then Beautiful Soup object has been successfully created"
   ]
  },
  {
   "cell_type": "code",
   "execution_count": 4,
   "metadata": {},
   "outputs": [
    {
     "name": "stdout",
     "output_type": "stream",
     "text": [
      "<html>\n",
      " <head>\n",
      "  <title>\n",
      "   A Simple HTML Document\n",
      "  </title>\n",
      " </head>\n",
      " <body>\n",
      "  <p>\n",
      "   This is a very simple HTML document\n",
      "  </p>\n",
      "  <p>\n",
      "   It only has two paragraphs\n",
      "  </p>\n",
      " </body>\n",
      "</html>\n",
      "\n"
     ]
    }
   ],
   "source": [
    "# Print formatted version of the soup\n",
    "print(soup.prettify())"
   ]
  },
  {
   "cell_type": "code",
   "execution_count": 15,
   "metadata": {},
   "outputs": [
    {
     "data": {
      "text/plain": [
       "'This is a very simple HTML document'"
      ]
     },
     "execution_count": 15,
     "metadata": {},
     "output_type": "execute_result"
    }
   ],
   "source": [
    "# Extracting various elements of the document\n",
    "\n",
    "# title\n",
    "# soup.title\n",
    "\n",
    "# text only of the title\n",
    "# soup.title.text\n",
    "\n",
    "# clean up text of the title\n",
    "# soup.title.text.strip()\n",
    "\n",
    "# contents of the HTML body\n",
    "# soup.body\n",
    "\n",
    "# text of the HTML body\n",
    "# soup.body.text\n",
    "\n",
    "# text of the first paragraph\n",
    "# soup.body.p.text\n",
    "\n",
    "# extract all paragraph elements\n",
    "# soup.body.find_all('p')\n",
    "\n",
    "# extract paragraphs by index\n",
    "# soup.body.find_all('p')[0]\n",
    "# soup.body.find_all('p')[1].text\n",
    "\n",
    "# extract the text from the first paragraph\n",
    "# soup.body.find_all('p')[0].text"
   ]
  },
  {
   "cell_type": "code",
   "execution_count": 17,
   "metadata": {},
   "outputs": [],
   "source": [
    "# Creating path to CNN url (<class activity practice>)\n",
    "url = \"http://edition.cnn.com/EVENTS/1996/year.in.review/\"\n",
    "html = requests.get(url).text"
   ]
  },
  {
   "cell_type": "code",
   "execution_count": 18,
   "metadata": {},
   "outputs": [],
   "source": [
    "# Create a Beautiful Soup object\n",
    "soup = bs(html, 'lxml')"
   ]
  },
  {
   "cell_type": "code",
   "execution_count": 19,
   "metadata": {},
   "outputs": [
    {
     "name": "stdout",
     "output_type": "stream",
     "text": [
      "CNN - 1996 Year in Review\n"
     ]
    }
   ],
   "source": [
    "# Extract title text\n",
    "title = soup.title.text\n",
    "print(title)"
   ]
  },
  {
   "cell_type": "code",
   "execution_count": 22,
   "metadata": {},
   "outputs": [
    {
     "name": "stdout",
     "output_type": "stream",
     "text": [
      "You can download a browser that does support frames such as \n",
      "Netscape Navigator 3.0 \n",
      " or Microsoft Internet Explorer 3.0 \n",
      "or higher.\n"
     ]
    }
   ],
   "source": [
    "# Print all paragraph texts\n",
    "paragraphs = soup.body.find_all('p')\n",
    "\n",
    "for p in paragraphs:\n",
    "    print(p.text)"
   ]
  },
  {
   "cell_type": "code",
   "execution_count": null,
   "metadata": {},
   "outputs": [],
   "source": [
    "######### Code to capture find_all elements into a list #########\n",
    "# Print all ten headlines\n",
    "# tds = soup.find_all('td')\n",
    "# # A blank list to hold the headlines\n",
    "# headlines = []\n",
    "# # Loop over td elements\n",
    "# for td in tds:\n",
    "#     # If td element has an anchor...\n",
    "#     if (td.a):\n",
    "#         # And the anchor has non-blank text...\n",
    "#         if (td.a.text):\n",
    "#             # Append the td to the list\n",
    "#             headlines.append(td)\n",
    "\n",
    "######### And to print that list #########\n",
    "# Print only the headlines\n",
    "# for x in range(len(headlines)):\n",
    "#     print(headlines[x].text) \n",
    "\n",
    "######### Code for error handling and how to pull elements in HTML #########\n",
    "# for r in results:\n",
    "#     # Include error handling\n",
    "#     try:\n",
    "#         # Identify and return title of listing\n",
    "#         title = r.find('a', class_=\"result-title\").text\n",
    "#         # Identify and return price of listing\n",
    "#         price = r.a.span.text\n",
    "#         # Identify and return link to listing\n",
    "#         link = r.a['href']\n",
    "        \n",
    "#         # Print results only if title, price, and link are available\n",
    "#         if (title and price and link):\n",
    "#             print('-----------------------------------')\n",
    "#             print(title)\n",
    "#             print(price)\n",
    "#             print(link)\n",
    "#     except AttributeError as e:\n",
    "#         print('-----------------------------------')\n",
    "#         print(e)"
   ]
  }
 ],
 "metadata": {
  "kernelspec": {
   "display_name": "Python 3",
   "language": "python",
   "name": "python3"
  },
  "language_info": {
   "codemirror_mode": {
    "name": "ipython",
    "version": 3
   },
   "file_extension": ".py",
   "mimetype": "text/x-python",
   "name": "python",
   "nbconvert_exporter": "python",
   "pygments_lexer": "ipython3",
   "version": "3.7.6"
  }
 },
 "nbformat": 4,
 "nbformat_minor": 4
}
